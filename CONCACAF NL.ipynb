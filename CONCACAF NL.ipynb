{
 "cells": [
  {
   "cell_type": "code",
   "execution_count": 170,
   "id": "f4ec8085",
   "metadata": {},
   "outputs": [],
   "source": [
    "import Tom_Model as TM\n",
    "import pandas as pd\n",
    "import numpy as np\n",
    "import random\n",
    "\n",
    "from collections import defaultdict\n",
    "from copy import deepcopy\n",
    "\n",
    "from selenium import webdriver\n",
    "from selenium.webdriver.support.ui import WebDriverWait\n",
    "from selenium.webdriver.support import expected_conditions as EC\n",
    "\n",
    "import matplotlib.pyplot as plt\n",
    "from pandas.plotting import table\n",
    "import matplotlib.colors as cl\n",
    "\n",
    "from collections import Counter\n",
    "\n",
    "from tabulate import tabulate\n",
    "\n",
    "from matplotlib.offsetbox import OffsetImage, AnnotationBbox\n",
    "\n",
    "import itertools"
   ]
  },
  {
   "cell_type": "code",
   "execution_count": 171,
   "id": "7a38a233",
   "metadata": {},
   "outputs": [],
   "source": [
    "theta = 1.7"
   ]
  },
  {
   "cell_type": "code",
   "execution_count": 172,
   "id": "11183a89",
   "metadata": {},
   "outputs": [],
   "source": [
    "iterations = 1"
   ]
  },
  {
   "cell_type": "code",
   "execution_count": 173,
   "id": "c35d60bb",
   "metadata": {},
   "outputs": [],
   "source": [
    "init_table_file = 'CNL_initial.csv'\n",
    "#current_table_file = 'CONMEBOL_current.csv'\n",
    "\n",
    "init_sched_file = 'CNL_schedule.csv'\n",
    "#current_sched_file = 'CONMEBOL_schedule_current.csv'"
   ]
  },
  {
   "cell_type": "code",
   "execution_count": 174,
   "id": "76dd3448",
   "metadata": {},
   "outputs": [],
   "source": [
    "host = \"United_States\""
   ]
  },
  {
   "cell_type": "code",
   "execution_count": 175,
   "id": "e53c4af4",
   "metadata": {},
   "outputs": [],
   "source": [
    "quals_group_table = pd.read_csv(init_table_file, header=0)\n",
    "\n",
    "matches = pd.read_csv(init_sched_file, header=0)"
   ]
  },
  {
   "cell_type": "code",
   "execution_count": 176,
   "id": "3563825c",
   "metadata": {},
   "outputs": [],
   "source": [
    "quals_group_table = quals_group_table.set_index('Code')\n",
    "\n",
    "init_group_table = deepcopy(quals_group_table)"
   ]
  },
  {
   "cell_type": "code",
   "execution_count": 177,
   "id": "4dc5599c",
   "metadata": {},
   "outputs": [],
   "source": [
    "finish_table = pd.DataFrame(0,\n",
    "                            index = Counter(quals_group_table.index).keys(),\n",
    "                            columns = ['Final', 'Winner'])"
   ]
  },
  {
   "cell_type": "code",
   "execution_count": 178,
   "id": "75df235a",
   "metadata": {},
   "outputs": [],
   "source": [
    "r1_SF = matches[matches['Group'] == 'SF']\n",
    "r1_F = matches[matches['Group'] == 'F']"
   ]
  },
  {
   "cell_type": "code",
   "execution_count": 183,
   "id": "595b281a",
   "metadata": {},
   "outputs": [
    {
     "name": "stdout",
     "output_type": "stream",
     "text": [
      "United_States / Draw / Jamaica\n",
      "0.6995521904057297 / 0.1710645489709549 / 0.12938326062331532\n",
      "Mexico / Draw / Panama\n",
      "0.4086745814371261 / 0.257694691625762 / 0.333630726937112\n",
      "Jamaica / Draw / Panama\n",
      "0.20524941759655402 / 0.2221312807422545 / 0.5726193016611915\n",
      "Iteration 1 / 1\n"
     ]
    },
    {
     "name": "stderr",
     "output_type": "stream",
     "text": [
      "/Users/thomasgaudin/opt/anaconda3/lib/python3.8/site-packages/pandas/core/indexing.py:1817: SettingWithCopyWarning: \n",
      "A value is trying to be set on a copy of a slice from a DataFrame.\n",
      "Try using .loc[row_indexer,col_indexer] = value instead\n",
      "\n",
      "See the caveats in the documentation: https://pandas.pydata.org/pandas-docs/stable/user_guide/indexing.html#returning-a-view-versus-a-copy\n",
      "  self._setitem_single_column(loc, value, pi)\n"
     ]
    }
   ],
   "source": [
    "for iteration in range(iterations):\n",
    "    \n",
    "    for match in range(2):\n",
    "        \n",
    "        #calculate win expectancies\n",
    "        home_team, home_we, home_elo, away_team, away_we, away_elo = TM.calc_neutral_match_We(r1_SF, \n",
    "                                                                       match, quals_group_table, host)\n",
    "        \n",
    "        #Determine win probability for each team\n",
    "        home_wp = TM.davidson_home_wp(home_we, away_we, theta)\n",
    "        away_wp = TM.davidson_away_wp(home_we, away_we, theta)\n",
    "        draw_wp = TM.davidson_tie_prob(home_we, away_we, theta)\n",
    "        \n",
    "        print(f\"{home_team} / Draw / {away_team}\")\n",
    "        print(f\"{home_wp} / {draw_wp} / {away_wp}\")\n",
    "\n",
    "    \n",
    "        quals_group_table, r1_SF = TM.play_ko_match_neutral(quals_group_table, r1_SF, match,\n",
    "                                  home_team, home_we, home_elo, home_wp, \n",
    "                                  away_team, away_we, away_elo, away_wp, draw_wp)\n",
    "        \n",
    "        \n",
    "    SF1_winner = r1_SF.loc[0, 'Winner']\n",
    "    SF2_winner = r1_SF.loc[1, 'Winner']\n",
    "    \n",
    "    r1_F.loc[2, 'Home'] = SF1_winner\n",
    "    r1_F.loc[2, 'Away'] = SF2_winner\n",
    "    \n",
    "    finish_table.loc[SF1_winner, 'Final'] += 1\n",
    "    finish_table.loc[SF2_winner, 'Final'] += 1\n",
    "    \n",
    "    #calculate win expectancies\n",
    "    home_team, home_we, home_elo, away_team, away_we, away_elo = TM.calc_neutral_match_We(r1_F, \n",
    "                                                                       2, quals_group_table, host)\n",
    "    \n",
    "    #Determine win probability for each team\n",
    "    home_wp = TM.davidson_home_wp(home_we, away_we, theta)\n",
    "    away_wp = TM.davidson_away_wp(home_we, away_we, theta)\n",
    "    draw_wp = TM.davidson_tie_prob(home_we, away_we, theta)\n",
    "    \n",
    "    print(f\"{home_team} / Draw / {away_team}\")\n",
    "    print(f\"{home_wp} / {draw_wp} / {away_wp}\")\n",
    "\n",
    "\n",
    "    quals_group_table, r1_F = TM.play_ko_match_neutral(quals_group_table, r1_F, 2,\n",
    "                              home_team, home_we, home_elo, home_wp, \n",
    "                              away_team, away_we, away_elo, away_wp, draw_wp)\n",
    "    \n",
    "    tourney_winner = r1_F.loc[2, 'Winner']\n",
    "    finish_table.loc[tourney_winner, 'Winner'] += 1\n",
    "    \n",
    "    quals_group_table = deepcopy(init_group_table)\n",
    "    \n",
    "    print(f'Iteration {iteration+1} / {iterations}')"
   ]
  },
  {
   "cell_type": "code",
   "execution_count": 180,
   "id": "10037690",
   "metadata": {},
   "outputs": [
    {
     "data": {
      "text/html": [
       "<div>\n",
       "<style scoped>\n",
       "    .dataframe tbody tr th:only-of-type {\n",
       "        vertical-align: middle;\n",
       "    }\n",
       "\n",
       "    .dataframe tbody tr th {\n",
       "        vertical-align: top;\n",
       "    }\n",
       "\n",
       "    .dataframe thead th {\n",
       "        text-align: right;\n",
       "    }\n",
       "</style>\n",
       "<table border=\"1\" class=\"dataframe\">\n",
       "  <thead>\n",
       "    <tr style=\"text-align: right;\">\n",
       "      <th></th>\n",
       "      <th>Final</th>\n",
       "      <th>Winner</th>\n",
       "    </tr>\n",
       "  </thead>\n",
       "  <tbody>\n",
       "    <tr>\n",
       "      <th>United_States</th>\n",
       "      <td>1</td>\n",
       "      <td>1</td>\n",
       "    </tr>\n",
       "    <tr>\n",
       "      <th>Jamaica</th>\n",
       "      <td>0</td>\n",
       "      <td>0</td>\n",
       "    </tr>\n",
       "    <tr>\n",
       "      <th>Mexico</th>\n",
       "      <td>1</td>\n",
       "      <td>0</td>\n",
       "    </tr>\n",
       "    <tr>\n",
       "      <th>Panama</th>\n",
       "      <td>0</td>\n",
       "      <td>0</td>\n",
       "    </tr>\n",
       "  </tbody>\n",
       "</table>\n",
       "</div>"
      ],
      "text/plain": [
       "               Final  Winner\n",
       "United_States      1       1\n",
       "Jamaica            0       0\n",
       "Mexico             1       0\n",
       "Panama             0       0"
      ]
     },
     "execution_count": 180,
     "metadata": {},
     "output_type": "execute_result"
    }
   ],
   "source": [
    "finish_table"
   ]
  },
  {
   "cell_type": "code",
   "execution_count": 181,
   "id": "7ae26592",
   "metadata": {},
   "outputs": [],
   "source": [
    "sorted_finish = finish_table.sort_values('Winner', ascending=False) / iterations"
   ]
  },
  {
   "cell_type": "code",
   "execution_count": 182,
   "id": "31f8d238",
   "metadata": {},
   "outputs": [
    {
     "data": {
      "image/png": "[encoded data removed]",
      "text/plain": [
       "<Figure size 432x288 with 1 Axes>"
      ]
     },
     "metadata": {},
     "output_type": "display_data"
    }
   ],
   "source": [
    "fig, ax = plt.subplots(1, 1, facecolor='white')\n",
    "ax.axis('off')\n",
    "ax.axis('tight')\n",
    "table = ax.table(cellText=sorted_finish.values, cellColours=plt.cm.YlOrRd(sorted_finish.values),\n",
    "                 rowLabels=sorted_finish.index, colLabels=sorted_finish.columns, \n",
    "                 loc='center')\n",
    "table.auto_set_font_size(False)\n",
    "table.set_fontsize(18)\n",
    "table.scale(2, 6)\n",
    "\n",
    "table_props = table.properties()\n",
    "table_cells = table_props['children']\n",
    "for cell in table_cells:\n",
    "    if sum(cell.properties()['facecolor']) < sum(cl.to_rgba('0.43')):\n",
    "        cell.get_text().set_color('white')\n",
    "\n",
    "# ab = AnnotationBbox(getImage(\"./country-flags-main/png1000px/ar.png\"), (200, 1837), \n",
    "#                     frameon=False, xycoords='figure points')\n",
    "# ax.add_artist(ab)\n",
    "\n",
    "\n",
    "for val in range(0,2):\n",
    "    head = table[0,val]\n",
    "    head.set_text_props(fontsize=18, fontweight='bold', verticalalignment='center')\n",
    "\n",
    "for val in range(1,5):\n",
    "    head = table[val,-1]\n",
    "    head.set_text_props(fontsize=18, fontweight='bold', verticalalignment='center')\n",
    "\n",
    "    \n",
    "plt.show()"
   ]
  },
  {
   "cell_type": "code",
   "execution_count": null,
   "id": "9b307e2b",
   "metadata": {},
   "outputs": [],
   "source": []
  }
 ],
 "metadata": {
  "kernelspec": {
   "display_name": "Python 3 (ipykernel)",
   "language": "python",
   "name": "python3"
  },
  "language_info": {
   "codemirror_mode": {
    "name": "ipython",
    "version": 3
   },
   "file_extension": ".py",
   "mimetype": "text/x-python",
   "name": "python",
   "nbconvert_exporter": "python",
   "pygments_lexer": "ipython3",
   "version": "3.8.5"
  }
 },
 "nbformat": 4,
 "nbformat_minor": 5
}
